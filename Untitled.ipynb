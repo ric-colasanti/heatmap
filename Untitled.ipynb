{
 "cells": [
  {
   "cell_type": "code",
   "execution_count": 43,
   "id": "7fa1d436-4135-45e9-bfd3-1a583abfd8ac",
   "metadata": {},
   "outputs": [
    {
     "name": "stdout",
     "output_type": "stream",
     "text": [
      "['scopus', 'Social Sciences%2c Interdisciplinary', 'Education \\\\& Educational Research', 'Materials Science%2c Composites', 'Materials Science%2c Biomaterials', 'Green \\\\& Sustainable Science \\\\& Technology', 'Social Issues', 'Social Sciences%2c Mathematical Methods', 'Public Administration', 'Rheumatology', 'Entomology', 'Development Studies', 'Geriatrics \\\\& Gerontology', 'Agronomy', 'Education%2c Scientific Disciplines', 'Computer Science%2c Interdisciplinary Applications', 'Evolutionary Biology', 'Criminology \\\\& Penology', 'Linguistics', 'Virology', 'Statistics \\\\& Probability', 'Computer Science%2c Software Engineering', 'Physics%2c Fluids \\\\& Plasmas', 'Humanities%2c Multidisciplinary', 'Engineering%2c Electrical \\\\& Electronic', 'Hospitality%2c Leisure%2c Sport \\\\& Tourism', 'Nuclear Science \\\\& Technology', 'Computer Science%2c Artificial Intelligence', 'Mycology', 'Construction \\\\& Building Technology', 'International Relations', 'Optics', 'Physics%2c Mathematical', 'Computer Science%2c Hardware \\\\& Architecture', 'Operations Research \\\\& Management Science', 'Physiology', 'Geography%2c Physical', 'Health Care Sciences \\\\& Services', 'Engineering%2c Environmental', 'Marine \\\\& Freshwater Biology', 'Chemistry%2c Multidisciplinary', 'Geochemistry \\\\& Geophysics', 'Philosophy', 'Clinical Neurology', 'Nursing', 'Infectious Diseases', 'Psychology%2c Educational', 'Psychology%2c Multidisciplinary', 'Rehabilitation', 'Radiology%2c Nuclear Medicine \\\\& Medical Imaging', 'History', 'Genetics \\\\& Heredity', 'Forestry', 'Political Science', 'Area Studies', 'Toxicology', 'Orthopedics', 'History \\\\& Philosophy Of Science', 'Limnology', 'Agricultural Economics \\\\& Policy', 'Chemistry%2c Medicinal', 'Acoustics', 'Psychology%2c Mathematical', 'Agriculture%2c Dairy \\\\& Animal Science', 'Family Studies', 'Multidisciplinary Sciences', 'Fisheries', 'Meteorology \\\\& Atmospheric Sciences', 'Psychology', 'Remote Sensing', 'Environmental Studies', 'Social Sciences%2c Biomedical', 'Ecology', 'Mathematics%2c Applied', 'Physics%2c Condensed Matter', 'Business', 'Regional \\\\& Urban Planning', 'Instruments \\\\& Instrumentation', 'Agriculture%2c Multidisciplinary', 'Cardiac \\\\& Cardiovascular Systems', 'Medicine%2c General \\\\& Internal', 'Metallurgy \\\\& Metallurgical Engineering', 'Language \\\\& Linguistics', \"Women's Studies\", 'Psychology%2c Applied', 'Ethics', 'Neurosciences', 'Geography', 'Urology \\\\& Nephrology', 'Business%2c Finance', 'Water Resources', 'Transportation Science \\\\& Technology', 'Engineering%2c Aerospace', 'Medicine%2c Research \\\\& Experimental', 'Biochemistry \\\\& Molecular Biology', 'Biochemical Research Methods', 'Law', 'Cultural Studies', 'Transportation', 'Polymer Science', 'Engineering%2c Marine', 'Demography', 'Management', 'Veterinary Sciences', 'Astronomy \\\\& Astrophysics', 'Engineering%2c Multidisciplinary', 'Physics%2c Applied', 'Telecommunications', 'Engineering%2c Geological', 'Soil Science', 'Mathematics', 'Ophthalmology', 'Thermodynamics', 'Oceanography', 'Gastroenterology \\\\& Hepatology', 'Nanoscience \\\\& Nanotechnology', 'Imaging Science \\\\& Photographic Technology', 'Information Science \\\\& Library Science', 'Chemistry%2c Physical', 'Medical Informatics', 'Microbiology', 'Respiratory System', 'Sociology', 'Mathematics%2c Interdisciplinary Applications', 'Mechanics', 'Oncology', 'Industrial Relations \\\\& Labor', 'Psychiatry', 'Plant Sciences', 'Parasitology', 'Communication', 'Art', 'Engineering%2c Ocean', 'Health Policy \\\\& Services', 'Psychology%2c Experimental', 'Materials Science%2c Multidisciplinary', 'Environmental Sciences', 'Robotics', 'Behavioral Sciences', 'Energy \\\\& Fuels', 'Agricultural Engineering', 'Immunology', 'Engineering%2c Mechanical', 'Mathematical \\\\& Computational Biology', 'Engineering%2c Industrial', 'Logic', 'Biology', 'Computer Science%2c Theory \\\\& Methods', 'Architecture', 'Economics', 'Nutrition \\\\& Dietetics', 'Biophysics', 'History Of Social Sciences', 'Ergonomics', 'Tropical Medicine', 'Engineering%2c Manufacturing', 'Sport Sciences', 'Geosciences%2c Multidisciplinary', 'Biodiversity Conservation', 'Engineering%2c Chemical', 'Chemistry%2c Analytical', 'Physics%2c Multidisciplinary', 'Psychology%2c Clinical', 'Spectroscopy', 'Automation \\\\& Control Systems', 'Computer Science%2c Cybernetics', 'Social Work', 'Zoology', 'Food Science \\\\& Technology', 'Pharmacology \\\\& Pharmacy', 'Anthropology', 'Archaeology', 'Engineering%2c Civil', 'Computer Science%2c Information Systems', 'Public%2c Environmental \\\\& Occupational Health', 'Engineering%2c Biomedical', 'Surgery', 'Psychology%2c Biological', 'Biotechnology \\\\& Applied Microbiology', 'Chemistry%2c Applied', 'Critical Care Medicine', 'Peripheral Vascular Disease', 'Psychology%2c Developmental', 'Dentistry%2c Oral Surgery \\\\& Medicine', 'Endocrinology \\\\& Metabolism', 'Substance Abuse', 'Religion', 'Paleontology', 'Gerontology', 'Cell Biology', 'Urban Studies', 'Transplantation', 'Dermatology', 'Psychology%2c Social']\n"
     ]
    }
   ],
   "source": [
    "# Opening file\n",
    "file_in = 'data/confusion.csv'\n",
    "file_out = 'data/heat.csv'\n",
    "count = 0\n",
    "fo = open(file_out, \"w\")\n",
    "with open(file_in) as fp:\n",
    "    weboscience = fp.readline().strip().split(',')\n",
    "    print(weboscience)\n",
    "    for i in range(1,len(topline)):\n",
    "        weboscience[i]=weboscience[i].replace(\"%2c\",\"-\").replace(\"\\\\\",\"\")\n",
    "    count=0\n",
    "    scopus=[]\n",
    "    fo.write(\"scopus,webOfScience,value\\n\")\n",
    "    while True:\n",
    "        line = fp.readline().strip()\n",
    " \n",
    "        if not line:\n",
    "            fp.close()\n",
    "            fo.close()\n",
    "            break\n",
    "        row = line.split(',')\n",
    "        scopus.append(row[0])\n",
    "        for i in range( 1,len(row)-1):\n",
    "            v=0\n",
    "            if row[i]!='':\n",
    "                v=row[i]\n",
    "            fo.write(scopus[count]+\",\"+weboscience[i]+\",\"+str(v)+\"\\n\")\n",
    "        count+=1\n",
    " "
   ]
  },
  {
   "cell_type": "code",
   "execution_count": 44,
   "id": "620e3c1e-c204-43ac-93b0-f9f9c3141f77",
   "metadata": {},
   "outputs": [],
   "source": [
    "webstr='[\"'+weboscience[1]+'\"'\n",
    "for i in range(2,len(weboscience)):\n",
    "    webstr+=',\"'+weboscience[i]+'\"'\n",
    "webstr+=']'"
   ]
  },
  {
   "cell_type": "code",
   "execution_count": 45,
   "id": "870300d5-1273-40e8-ad85-c2675b498e40",
   "metadata": {},
   "outputs": [
    {
     "data": {
      "text/plain": [
       "'[\"Social Sciences- Interdisciplinary\",\"Education & Educational Research\",\"Materials Science- Composites\",\"Materials Science- Biomaterials\",\"Green & Sustainable Science & Technology\",\"Social Issues\",\"Social Sciences- Mathematical Methods\",\"Public Administration\",\"Rheumatology\",\"Entomology\",\"Development Studies\",\"Geriatrics & Gerontology\",\"Agronomy\",\"Education- Scientific Disciplines\",\"Computer Science- Interdisciplinary Applications\",\"Evolutionary Biology\",\"Criminology & Penology\",\"Linguistics\",\"Virology\",\"Statistics & Probability\",\"Computer Science- Software Engineering\",\"Physics- Fluids & Plasmas\",\"Humanities- Multidisciplinary\",\"Engineering- Electrical & Electronic\",\"Hospitality- Leisure- Sport & Tourism\",\"Nuclear Science & Technology\",\"Computer Science- Artificial Intelligence\",\"Mycology\",\"Construction & Building Technology\",\"International Relations\",\"Optics\",\"Physics- Mathematical\",\"Computer Science- Hardware & Architecture\",\"Operations Research & Management Science\",\"Physiology\",\"Geography- Physical\",\"Health Care Sciences & Services\",\"Engineering- Environmental\",\"Marine & Freshwater Biology\",\"Chemistry- Multidisciplinary\",\"Geochemistry & Geophysics\",\"Philosophy\",\"Clinical Neurology\",\"Nursing\",\"Infectious Diseases\",\"Psychology- Educational\",\"Psychology- Multidisciplinary\",\"Rehabilitation\",\"Radiology- Nuclear Medicine & Medical Imaging\",\"History\",\"Genetics & Heredity\",\"Forestry\",\"Political Science\",\"Area Studies\",\"Toxicology\",\"Orthopedics\",\"History & Philosophy Of Science\",\"Limnology\",\"Agricultural Economics & Policy\",\"Chemistry- Medicinal\",\"Acoustics\",\"Psychology- Mathematical\",\"Agriculture- Dairy & Animal Science\",\"Family Studies\",\"Multidisciplinary Sciences\",\"Fisheries\",\"Meteorology & Atmospheric Sciences\",\"Psychology\",\"Remote Sensing\",\"Environmental Studies\",\"Social Sciences- Biomedical\",\"Ecology\",\"Mathematics- Applied\",\"Physics- Condensed Matter\",\"Business\",\"Regional & Urban Planning\",\"Instruments & Instrumentation\",\"Agriculture- Multidisciplinary\",\"Cardiac & Cardiovascular Systems\",\"Medicine- General & Internal\",\"Metallurgy & Metallurgical Engineering\",\"Language & Linguistics\",\"Women\\'s Studies\",\"Psychology- Applied\",\"Ethics\",\"Neurosciences\",\"Geography\",\"Urology & Nephrology\",\"Business- Finance\",\"Water Resources\",\"Transportation Science & Technology\",\"Engineering- Aerospace\",\"Medicine- Research & Experimental\",\"Biochemistry & Molecular Biology\",\"Biochemical Research Methods\",\"Law\",\"Cultural Studies\",\"Transportation\",\"Polymer Science\",\"Engineering- Marine\",\"Demography\",\"Management\",\"Veterinary Sciences\",\"Astronomy & Astrophysics\",\"Engineering- Multidisciplinary\",\"Physics- Applied\",\"Telecommunications\",\"Engineering- Geological\",\"Soil Science\",\"Mathematics\",\"Ophthalmology\",\"Thermodynamics\",\"Oceanography\",\"Gastroenterology & Hepatology\",\"Nanoscience & Nanotechnology\",\"Imaging Science & Photographic Technology\",\"Information Science & Library Science\",\"Chemistry- Physical\",\"Medical Informatics\",\"Microbiology\",\"Respiratory System\",\"Sociology\",\"Mathematics- Interdisciplinary Applications\",\"Mechanics\",\"Oncology\",\"Industrial Relations & Labor\",\"Psychiatry\",\"Plant Sciences\",\"Parasitology\",\"Communication\",\"Art\",\"Engineering- Ocean\",\"Health Policy & Services\",\"Psychology- Experimental\",\"Materials Science- Multidisciplinary\",\"Environmental Sciences\",\"Robotics\",\"Behavioral Sciences\",\"Energy & Fuels\",\"Agricultural Engineering\",\"Immunology\",\"Engineering- Mechanical\",\"Mathematical & Computational Biology\",\"Engineering- Industrial\",\"Logic\",\"Biology\",\"Computer Science- Theory & Methods\",\"Architecture\",\"Economics\",\"Nutrition & Dietetics\",\"Biophysics\",\"History Of Social Sciences\",\"Ergonomics\",\"Tropical Medicine\",\"Engineering- Manufacturing\",\"Sport Sciences\",\"Geosciences- Multidisciplinary\",\"Biodiversity Conservation\",\"Engineering- Chemical\",\"Chemistry- Analytical\",\"Physics- Multidisciplinary\",\"Psychology- Clinical\",\"Spectroscopy\",\"Automation & Control Systems\",\"Computer Science- Cybernetics\",\"Social Work\",\"Zoology\",\"Food Science & Technology\",\"Pharmacology & Pharmacy\",\"Anthropology\",\"Archaeology\",\"Engineering- Civil\",\"Computer Science- Information Systems\",\"Public- Environmental & Occupational Health\",\"Engineering- Biomedical\",\"Surgery\",\"Psychology- Biological\",\"Biotechnology & Applied Microbiology\",\"Chemistry- Applied\",\"Critical Care Medicine\",\"Peripheral Vascular Disease\",\"Psychology- Developmental\",\"Dentistry- Oral Surgery & Medicine\",\"Endocrinology & Metabolism\",\"Substance Abuse\",\"Religion\",\"Paleontology\",\"Gerontology\",\"Cell Biology\",\"Urban Studies\",\"Transplantation\",\"Dermatology\",\"Psychology- Social\"]'"
      ]
     },
     "execution_count": 45,
     "metadata": {},
     "output_type": "execute_result"
    }
   ],
   "source": [
    "webstr"
   ]
  },
  {
   "cell_type": "code",
   "execution_count": 36,
   "id": "3a14e891-cb7a-445d-ba6d-0ceb5fb39944",
   "metadata": {},
   "outputs": [],
   "source": [
    "scostr='[\"'+scopus[0]+'\"'\n",
    "for i in range(1,len(scopus)):\n",
    "    scostr+=',\"'+scopus[i]+'\"'\n",
    "scostr+=']'"
   ]
  },
  {
   "cell_type": "code",
   "execution_count": 37,
   "id": "b92041fd-6945-4e49-95c7-3f6d0f7490e3",
   "metadata": {},
   "outputs": [
    {
     "data": {
      "text/plain": [
       "'[\"Dentistry\",\"Earth and Planetary-Sciences\",\"Chemical-Engineering\",\"Business and Management and Accounting\",\"Physics and Astronomy\",\"Computer-Science\",\"Energy\",\"Health-Professions\",\"Multidisciplinary\",\"Mathematics\",\"Environmental-Science\",\"Immunology and Microbiology\",\"Neuroscience\",\"Agricultural and Biological-Sciences\",\"Nursing\",\"Social-Science\",\"Psychology\",\"Veterinary\",\"Pharmacology and Toxicology and Pharmaceutics\",\"Materials-Science\",\"Engineering\",\"Arts and Humanities\",\"Medicine\",\"Chemistry\",\"Decision-Sciences\"]'"
      ]
     },
     "execution_count": 37,
     "metadata": {},
     "output_type": "execute_result"
    }
   ],
   "source": [
    "scostr"
   ]
  },
  {
   "cell_type": "code",
   "execution_count": null,
   "id": "88980abc-b9b2-4b40-826c-ccbf3a850ef9",
   "metadata": {},
   "outputs": [],
   "source": []
  }
 ],
 "metadata": {
  "kernelspec": {
   "display_name": "Python 3 (ipykernel)",
   "language": "python",
   "name": "python3"
  },
  "language_info": {
   "codemirror_mode": {
    "name": "ipython",
    "version": 3
   },
   "file_extension": ".py",
   "mimetype": "text/x-python",
   "name": "python",
   "nbconvert_exporter": "python",
   "pygments_lexer": "ipython3",
   "version": "3.11.4"
  }
 },
 "nbformat": 4,
 "nbformat_minor": 5
}
